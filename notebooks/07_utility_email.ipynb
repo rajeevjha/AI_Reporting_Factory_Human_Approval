{
 "cells": [
  {
   "cell_type": "code",
   "execution_count": 0,
   "metadata": {
    "application/vnd.databricks.v1+cell": {
     "cellMetadata": {
      "byteLimit": 2048000,
      "rowLimit": 10000
     },
     "inputWidgets": {},
     "nuid": "18c0c2d7-a5f9-4c47-a1d4-28417ff25bda",
     "showTitle": false,
     "tableResultSettingsMap": {},
     "title": ""
    }
   },
   "outputs": [],
   "source": [
    "import requests, json\n",
    "\n",
    "api_key = dbutils.secrets.get(\"email-secrets\", \"GRAPH_CLIENT_SECRET\") #MAILERSEND_API_KEY\n",
    "\n",
    "url = \"https://api.mailersend.com/v1/email\"\n",
    "payload = {\n",
    "    \"from\": {\"email\": \"MS_Wp3pH3@test-nrw7gymdorog2k8e.mlsender.net\"},   # must be from verified domain/sender\n",
    "    \"to\": [{\"email\": \"rajeevjha@aol.in\"}],\n",
    "    \"subject\": \"Hello from Databricks + MailerSend 🚀\",\n",
    "    \"text\": \"This is a test email sent via MailerSend API.\"\n",
    "}\n",
    "\n",
    "resp = requests.post(\n",
    "    url,\n",
    "    headers={\"Authorization\": f\"Bearer {api_key}\", \"Content-Type\": \"application/json\"},\n",
    "    data=json.dumps(payload)\n",
    ")\n",
    "\n",
    "print(resp.status_code, resp.text)"
   ]
  }
 ],
 "metadata": {
  "application/vnd.databricks.v1+notebook": {
   "computePreferences": null,
   "dashboards": [],
   "environmentMetadata": null,
   "inputWidgetPreferences": null,
   "language": "python",
   "notebookMetadata": {
    "pythonIndentUnit": 4
   },
   "notebookName": "07_utility_email",
   "widgets": {}
  },
  "language_info": {
   "name": "python"
  }
 },
 "nbformat": 4,
 "nbformat_minor": 0
}
