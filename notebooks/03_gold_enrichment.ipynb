{
 "cells": [
  {
   "cell_type": "markdown",
   "id": "4cbca658",
   "metadata": {},
   "source": [
    "# 03_gold_enrichment\n"
   ]
  },
  {
   "cell_type": "code",
   "execution_count": null,
   "id": "996e3290",
   "metadata": {},
   "outputs": [],
   "source": [
    "# 03_gold_enrichment\n",
    "from pyspark.sql import functions as F\n",
    "silver='finance.kyc_silver.transactions_clean'\n",
    "gold='finance.kyc_gold.customer_enriched'\n",
    "\n",
    "df = spark.table(silver)\n",
    "df = df.withColumn('fraud_flag', (F.col('isFraud')==1).cast('int'))\n",
    "df.write.format('delta').mode('overwrite').saveAsTable(gold)\n",
    "print('Gold written:', gold)\n"
   ]
  }
 ],
 "metadata": {},
 "nbformat": 4,
 "nbformat_minor": 5
}
