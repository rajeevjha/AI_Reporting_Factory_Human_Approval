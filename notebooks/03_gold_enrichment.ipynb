{
 "cells": [
  {
   "cell_type": "markdown",
   "metadata": {
    "application/vnd.databricks.v1+cell": {
     "cellMetadata": {},
     "inputWidgets": {},
     "nuid": "44a2c4bf-669f-4e4b-8789-e742725e55d6",
     "showTitle": false,
     "tableResultSettingsMap": {},
     "title": ""
    }
   },
   "source": [
    "# 03_gold_enrichment\n"
   ]
  },
  {
   "cell_type": "code",
   "execution_count": 0,
   "metadata": {
    "application/vnd.databricks.v1+cell": {
     "cellMetadata": {
      "byteLimit": 2048000,
      "rowLimit": 10000
     },
     "inputWidgets": {},
     "nuid": "1f09ca0f-fddd-40e8-bd05-9068d3b68a2b",
     "showTitle": false,
     "tableResultSettingsMap": {},
     "title": ""
    }
   },
   "outputs": [],
   "source": [
    "# 03_gold_enrichment\n",
    "from pyspark.sql import functions as F\n",
    "silver='finance.kyc_silver.transactions_clean'\n",
    "gold='finance.kyc_gold.customer_enriched'\n",
    "\n",
    "df = spark.table(silver)\n",
    "df = df.withColumn('fraud_flag', (F.col('isFraud')==1).cast('int'))\n",
    "df.write.format('delta').mode('overwrite').saveAsTable(gold)\n",
    "print('Gold written:', gold)\n"
   ]
  }
 ],
 "metadata": {
  "application/vnd.databricks.v1+notebook": {
   "computePreferences": null,
   "dashboards": [],
   "environmentMetadata": null,
   "inputWidgetPreferences": null,
   "language": "python",
   "notebookMetadata": {
    "pythonIndentUnit": 4
   },
   "notebookName": "03_gold_enrichment",
   "widgets": {}
  },
  "language_info": {
   "name": "python"
  }
 },
 "nbformat": 4,
 "nbformat_minor": 0
}
