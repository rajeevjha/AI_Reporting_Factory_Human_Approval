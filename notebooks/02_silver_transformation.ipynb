{
 "cells": [
  {
   "cell_type": "markdown",
   "metadata": {
    "application/vnd.databricks.v1+cell": {
     "cellMetadata": {},
     "inputWidgets": {},
     "nuid": "dc6008bc-13a7-4b06-88a2-bf464779e4ba",
     "showTitle": false,
     "tableResultSettingsMap": {},
     "title": ""
    }
   },
   "source": [
    "# 02_silver_transformation\n"
   ]
  },
  {
   "cell_type": "code",
   "execution_count": 0,
   "metadata": {
    "application/vnd.databricks.v1+cell": {
     "cellMetadata": {
      "byteLimit": 2048000,
      "rowLimit": 10000
     },
     "inputWidgets": {},
     "nuid": "03881d05-99a7-420b-a32d-8aaedd54c5a6",
     "showTitle": false,
     "tableResultSettingsMap": {},
     "title": ""
    }
   },
   "outputs": [],
   "source": [
    "# 02_silver_transformation\n",
    "from pyspark.sql import functions as F\n",
    "bronze='finance.kyc_bronze.paysim_raw'\n",
    "silver='finance.kyc_silver.transactions_clean'\n",
    "\n",
    "df = spark.table(bronze)\n",
    "df2 = df.withColumn('step', F.col('step').cast('int')).withColumn('accountType', F.col('type'))\n",
    "df2 = df2.withColumn('date', F.date_add(F.to_date(F.lit('2020-01-01')), (F.col('step')/24).cast('int')))\n",
    "for c in ('nameOrig','nameDest'):\n",
    "    if c in df2.columns:\n",
    "        df2 = df2.drop(c)\n",
    "df2.write.format('delta').mode('overwrite').saveAsTable(silver)\n",
    "print('Silver written:', silver)\n"
   ]
  }
 ],
 "metadata": {
  "application/vnd.databricks.v1+notebook": {
   "computePreferences": null,
   "dashboards": [],
   "environmentMetadata": null,
   "inputWidgetPreferences": null,
   "language": "python",
   "notebookMetadata": {
    "pythonIndentUnit": 4
   },
   "notebookName": "02_silver_transformation",
   "widgets": {}
  },
  "language_info": {
   "name": "python"
  }
 },
 "nbformat": 4,
 "nbformat_minor": 0
}
