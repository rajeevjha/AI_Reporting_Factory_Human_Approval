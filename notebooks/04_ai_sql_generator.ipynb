{
 "cells": [
  {
   "cell_type": "markdown",
   "id": "6abd00cf",
   "metadata": {},
   "source": [
    "# 04_ai_sql_generator\n"
   ]
  },
  {
   "cell_type": "code",
   "execution_count": null,
   "id": "2fbba355",
   "metadata": {},
   "outputs": [],
   "source": [
    "# 04_ai_sql_generator\n",
    "import json,re,uuid\n",
    "from datetime import datetime\n",
    "# OpenAI client used via dbutils secret 'llm' -> 'openai_api_key'\n",
    "try:\n",
    "    from openai import OpenAI\n",
    "    client = OpenAI(api_key=dbutils.secrets.get(scope='llm', key='openai_api_key'))\n",
    "except Exception as e:\n",
    "    print('OpenAI client not available or secret missing:', e)\n",
    "    client = None\n",
    "\n",
    "metadata_dbfs_path = '/dbfs/FileStore/report_metadata/report_definitions.json'\n",
    "with open(metadata_dbfs_path,'r') as f:\n",
    "    reports = json.load(f)\n",
    "\n",
    "current_user = spark.sql('SELECT current_user()').first()[0]\n",
    "\n",
    "for rpt in reports:\n",
    "    report_name = rpt['report_name']\n",
    "    prompt = rpt.get('natural_language') or 'Generate report'\n",
    "    full_prompt = f\"You are a Spark SQL generator. Use table finance.kyc_gold.customer_enriched. Request: {prompt}\"\n",
    "    generated = None\n",
    "    if client:\n",
    "        try:\n",
    "            res = client.chat.completions.create(model='gpt-4', messages=[{'role':'user','content':full_prompt}], temperature=0)\n",
    "            generated = res.choices[0].message.content\n",
    "        except Exception as e:\n",
    "            print('LLM call failed:', e)\n",
    "    if not generated:\n",
    "        dims = ', '.join(rpt.get('dimensions',[]))\n",
    "        meas = ', '.join(rpt.get('measures',[]))\n",
    "        where = ('WHERE ' + rpt['filters']) if rpt.get('filters') else ''\n",
    "        generated = f\"SELECT {dims}, {meas} FROM finance.kyc_gold.customer_enriched {where} GROUP BY {dims}\"\n",
    "    m = re.search(r'(WITH\\\\b|SELECT\\\\b)', generated, flags=re.IGNORECASE)\n",
    "    sql = generated[m.start():].strip() if m else generated\n",
    "    cid = str(uuid.uuid4())\n",
    "    row = [(cid, report_name, prompt, sql, 'PENDING', current_user, datetime.utcnow(), None, None, None)]\n",
    "    cols = ['id','report_name','prompt','generated_sql','status','created_by','created_at','updated_by','updated_at','notes']\n",
    "    spark.createDataFrame(row, schema=cols).write.format('delta').mode('append').saveAsTable('finance.kyc_gold.ai_sql_candidates')\n",
    "    print('Wrote candidate', cid)\n"
   ]
  }
 ],
 "metadata": {},
 "nbformat": 4,
 "nbformat_minor": 5
}
