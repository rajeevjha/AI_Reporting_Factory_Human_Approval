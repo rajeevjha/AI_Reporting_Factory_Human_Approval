{
 "cells": [
  {
   "cell_type": "markdown",
   "metadata": {
    "application/vnd.databricks.v1+cell": {
     "cellMetadata": {},
     "inputWidgets": {},
     "nuid": "c05d9170-4d95-4cdb-8868-a8928f62201e",
     "showTitle": false,
     "tableResultSettingsMap": {},
     "title": ""
    }
   },
   "source": [
    "# 04_ai_sql_generator\n"
   ]
  },
  {
   "cell_type": "code",
   "execution_count": 0,
   "metadata": {
    "application/vnd.databricks.v1+cell": {
     "cellMetadata": {
      "byteLimit": 2048000,
      "rowLimit": 10000
     },
     "inputWidgets": {},
     "nuid": "326492f6-97ef-47c4-99c6-3602035643fb",
     "showTitle": false,
     "tableResultSettingsMap": {},
     "title": ""
    }
   },
   "outputs": [],
   "source": [
    "# 04_ai_sql_generator\n",
    "import json,re,uuid\n",
    "from datetime import datetime\n",
    "# OpenAI client used via dbutils secret 'llm' -> 'openai_api_key'\n",
    "try:\n",
    "    from openai import OpenAI\n",
    "    client = OpenAI(api_key=dbutils.secrets.get(scope='llm', key='openai_api_key'))\n",
    "except Exception as e:\n",
    "    print('OpenAI client not available or secret missing:', e)\n",
    "    client = None\n",
    "\n",
    "metadata_dbfs_path = '/dbfs/FileStore/kyc/report_metadata/report_definitions.json'\n",
    "with open(metadata_dbfs_path,'r') as f:\n",
    "    reports = json.load(f)\n",
    "\n",
    "current_user = spark.sql('SELECT current_user()').first()[0]\n",
    "\n",
    "for rpt in reports:\n",
    "    report_name = rpt['report_name']\n",
    "    prompt = rpt.get('natural_language') or 'Generate report'\n",
    "\n",
    "\n",
    "    schema_info ='Columns: step (int), type (string), amount (double), oldbalanceOrg (double), newbalanceOrig (double), oldbalanceDest (double), newbalanceDest (double), isFraud (int), isFlaggedFraud (int), accountType (string), date (date), fraud_flag (int)'\n",
    "        \n",
    "    full_prompt = f\"You are a Spark SQL generator. Use table finance.kyc_gold.customer_enriched having schema as  {schema_info}. Return ONLY a valid Spark SQL query without trailing ;. Request: {prompt}\"\n",
    "    print('\\n--- Generating for', report_name, '---')\n",
    "\n",
    "    generated = None\n",
    "    if client:\n",
    "        try:\n",
    "            res = client.chat.completions.create(model='gpt-4', messages=[{'role':'user','content':full_prompt}], temperature=0)\n",
    "            generated = res.choices[0].message.content\n",
    "        except Exception as e:\n",
    "            print('LLM call failed:', e)\n",
    "    if not generated:\n",
    "        dims = ', '.join(rpt.get('dimensions',[]))\n",
    "        meas = ', '.join(rpt.get('measures',[]))\n",
    "        where = ('WHERE ' + rpt['filters']) if rpt.get('filters') else ''\n",
    "        generated = f\"SELECT {dims}, {meas} FROM finance.kyc_gold.customer_enriched {where} GROUP BY {dims}\"\n",
    "    m = re.search(r'(WITH\\\\b|SELECT\\\\b)', generated, flags=re.IGNORECASE)\n",
    "    sql = generated[m.start():].strip() if m else generated\n",
    "    cid = str(uuid.uuid4())\n",
    "    row = [(cid, report_name, prompt, sql, 'PENDING', current_user, datetime.utcnow())]\n",
    "    cols = ['id','report_name','prompt','generated_sql','status','created_by','created_at']\n",
    "    spark.createDataFrame(row, schema=cols).write.format('delta').option('mergeSchema', 'true').mode('append').saveAsTable('finance.kyc_gold.ai_sql_candidates')\n",
    "    print('Wrote candidate', cid)\n"
   ]
  }
 ],
 "metadata": {
  "application/vnd.databricks.v1+notebook": {
   "computePreferences": null,
   "dashboards": [],
   "environmentMetadata": null,
   "inputWidgetPreferences": null,
   "language": "python",
   "notebookMetadata": {
    "pythonIndentUnit": 4
   },
   "notebookName": "04_ai_sql_generator",
   "widgets": {}
  },
  "language_info": {
   "name": "python"
  }
 },
 "nbformat": 4,
 "nbformat_minor": 0
}
