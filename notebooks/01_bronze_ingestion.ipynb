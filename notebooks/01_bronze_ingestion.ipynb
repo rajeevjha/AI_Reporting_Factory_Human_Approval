{
 "cells": [
  {
   "cell_type": "markdown",
   "id": "ffeb02ad",
   "metadata": {},
   "source": [
    "# 01_bronze_ingestion\n"
   ]
  },
  {
   "cell_type": "code",
   "execution_count": null,
   "id": "14b5ea33",
   "metadata": {},
   "outputs": [],
   "source": [
    "# 01_bronze_ingestion\n",
    "# Upload sample to dbfs:/FileStore/paysim.csv then run this cell.\n",
    "catalog='finance'\n",
    "schema='kyc_bronze'\n",
    "raw_table=f\"{catalog}.{schema}.paysim_raw\"\n",
    "path='dbfs:/FileStore/paysim.csv'\n",
    "\n",
    "df = spark.read.option('header',True).option('inferSchema',True).csv(path)\n",
    "df.write.format('delta').mode('overwrite').saveAsTable(raw_table)\n",
    "print('Bronze written:', raw_table)\n"
   ]
  }
 ],
 "metadata": {},
 "nbformat": 4,
 "nbformat_minor": 5
}
