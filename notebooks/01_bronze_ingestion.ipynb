{
 "cells": [
  {
   "cell_type": "markdown",
   "metadata": {
    "application/vnd.databricks.v1+cell": {
     "cellMetadata": {},
     "inputWidgets": {},
     "nuid": "76a83df0-b5fd-4ab2-8e6e-4e11c8bf3025",
     "showTitle": false,
     "tableResultSettingsMap": {},
     "title": ""
    }
   },
   "source": [
    "# 01_bronze_ingestion\n"
   ]
  },
  {
   "cell_type": "code",
   "execution_count": 0,
   "metadata": {
    "application/vnd.databricks.v1+cell": {
     "cellMetadata": {
      "byteLimit": 2048000,
      "rowLimit": 10000
     },
     "inputWidgets": {},
     "nuid": "47ce1ac2-9943-426f-942c-65ec3289b99d",
     "showTitle": false,
     "tableResultSettingsMap": {},
     "title": ""
    }
   },
   "outputs": [],
   "source": [
    "# 01_bronze_ingestion\n",
    "# Upload sample to dbfs:/FileStore/paysim.csv then run this cell.\n",
    "catalog='finance'\n",
    "schema='kyc_bronze'\n",
    "raw_table=f\"{catalog}.{schema}.paysim_raw\"\n",
    "path='dbfs:/FileStore/kyc/raw/paysim_dataset.csv'\n",
    "\n",
    "df = spark.read.option('header',True).option('inferSchema',True).csv(path)\n",
    "df.write.format('delta').mode('overwrite').saveAsTable(raw_table)\n",
    "print('Bronze written:', raw_table)\n"
   ]
  }
 ],
 "metadata": {
  "application/vnd.databricks.v1+notebook": {
   "computePreferences": null,
   "dashboards": [],
   "environmentMetadata": null,
   "inputWidgetPreferences": null,
   "language": "python",
   "notebookMetadata": {
    "pythonIndentUnit": 4
   },
   "notebookName": "01_bronze_ingestion",
   "widgets": {}
  },
  "language_info": {
   "name": "python"
  }
 },
 "nbformat": 4,
 "nbformat_minor": 0
}
