{
 "cells": [
  {
   "cell_type": "markdown",
   "metadata": {
    "application/vnd.databricks.v1+cell": {
     "cellMetadata": {},
     "inputWidgets": {},
     "nuid": "398adb90-e906-42ec-9f0c-b81047466a1e",
     "showTitle": false,
     "tableResultSettingsMap": {},
     "title": ""
    }
   },
   "source": [
    "# 06_report_export_notify\n"
   ]
  },
  {
   "cell_type": "code",
   "execution_count": 0,
   "metadata": {
    "application/vnd.databricks.v1+cell": {
     "cellMetadata": {},
     "inputWidgets": {},
     "nuid": "18c0c2d7-a5f9-4c47-a1d4-28417ff25bda",
     "showTitle": false,
     "tableResultSettingsMap": {},
     "title": ""
    }
   },
   "outputs": [],
   "source": [
    "# 06_report_export_notify\n",
    "from pathlib import Path\n",
    "from datetime import datetime\n",
    "out_base = '/dbfs/FileStore/kyc/reports'\n",
    "Path(out_base).mkdir(parents=True, exist_ok=True)\n",
    "\n",
    "try:\n",
    "    q = spark.table('finance.kyc_gold.report_export_queue').filter(\"status='QUEUED'\")\n",
    "except Exception as e:\n",
    "    print('No queue', e); q = []\n",
    "\n",
    "for r in q.collect():\n",
    "    out = f\"{out_base}/{r.report_name}_{datetime.utcnow().strftime('%Y%m%d_%H%M%S')}\"\n",
    "    try:\n",
    "        df = spark.table(r.view_full_name)\n",
    "        df.coalesce(1).write.mode('overwrite').option('header',True).csv(out)\n",
    "        spark.sql(f\"UPDATE finance.kyc_gold.report_export_queue SET status='DONE', finished_at = current_timestamp(), export_path='{out}' WHERE id = '{r.id}'\")\n",
    "        print('Exported', r.report_name, '->', out)\n",
    "    except Exception as e:\n",
    "        spark.sql(f\"UPDATE finance.kyc_gold.report_export_queue SET status='FAILED' WHERE id = '{r.id}'\")\n",
    "        print('Export failed', r.id, e)\n",
    "print('Done')"
   ]
  }
 ],
 "metadata": {
  "application/vnd.databricks.v1+notebook": {
   "computePreferences": null,
   "dashboards": [],
   "environmentMetadata": null,
   "inputWidgetPreferences": null,
   "language": "python",
   "notebookMetadata": {
    "pythonIndentUnit": 4
   },
   "notebookName": "06_report_export_notify",
   "widgets": {}
  },
  "language_info": {
   "name": "python"
  }
 },
 "nbformat": 4,
 "nbformat_minor": 0
}
