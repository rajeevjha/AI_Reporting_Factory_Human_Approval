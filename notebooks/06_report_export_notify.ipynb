{
 "cells": [
  {
   "cell_type": "markdown",
   "metadata": {
    "application/vnd.databricks.v1+cell": {
     "cellMetadata": {},
     "inputWidgets": {},
     "nuid": "398adb90-e906-42ec-9f0c-b81047466a1e",
     "showTitle": false,
     "tableResultSettingsMap": {},
     "title": ""
    }
   },
   "source": [
    "# 06_report_export_notify\n"
   ]
  },
  {
   "cell_type": "code",
   "execution_count": 0,
   "metadata": {
    "application/vnd.databricks.v1+cell": {
     "cellMetadata": {},
     "inputWidgets": {},
     "nuid": "18c0c2d7-a5f9-4c47-a1d4-28417ff25bda",
     "showTitle": false,
     "tableResultSettingsMap": {},
     "title": ""
    }
   },
   "outputs": [],
   "source": [
    "# Databricks notebook: 06_publish_export_notify\n",
    "from databricks.sdk import WorkspaceClient\n",
    "from datetime import datetime\n",
    "import pandas as pd\n",
    "import uuid\n",
    "import os\n",
    "\n",
    "ws = WorkspaceClient()\n",
    "\n",
    "approved = spark.sql(\"\"\"\n",
    "    SELECT * FROM finance.kyc_gold.report_candidates\n",
    "    WHERE status='approved'\"\"\").toPandas()\n",
    "\n",
    "if approved.empty:\n",
    "    print(\"No approved reports found.\")\n",
    "else:\n",
    "    for _, report in approved.iterrows():\n",
    "        print(f\"Processing: {report['report_name']}\")\n",
    "\n",
    "        # 1. Publish dashboard\n",
    "        dash = ws.dashboards.create(name=report['report_name'])\n",
    "        dashboard_url = f\"{ws.config.host}/sql/dashboards/{dash.id}\"\n",
    "\n",
    "        # 2. Export reports\n",
    "        pdf_path = f\"/dbfs/tmp/{report['report_name']}.pdf\"\n",
    "        excel_path = f\"/dbfs/tmp/{report['report_name']}.xlsx\"\n",
    "\n",
    "        with open(pdf_path, \"w\") as f:\n",
    "            f.write(f\"Report: {report['report_name']}\")\n",
    "        pd.DataFrame({\"Sample\": [1, 2, 3]}).to_excel(excel_path, index=False)\n",
    "\n",
    "        # 3. Notify (Placeholder print)\n",
    "        print(f\"Email sent to {report['owner']} with {pdf_path} and {excel_path}\")\n",
    "\n",
    "        # 4. Update status\n",
    "        spark.sql(f\"\"\"\n",
    "            UPDATE finance.kyc_ml.report_candidates\n",
    "            SET status='published',\n",
    "                dashboard_id='{dash.id}',\n",
    "                report_url='{dashboard_url}',\n",
    "                published_at='{datetime.now()}'\n",
    "            WHERE id='{report['id']}'\n",
    "        \"\"\")"
   ]
  }
 ],
 "metadata": {
  "application/vnd.databricks.v1+notebook": {
   "computePreferences": null,
   "dashboards": [],
   "environmentMetadata": null,
   "inputWidgetPreferences": null,
   "language": "python",
   "notebookMetadata": {
    "pythonIndentUnit": 4
   },
   "notebookName": "06_report_export_notify",
   "widgets": {}
  },
  "language_info": {
   "name": "python"
  }
 },
 "nbformat": 4,
 "nbformat_minor": 0
}
