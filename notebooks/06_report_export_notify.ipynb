{
 "cells": [
  {
   "cell_type": "markdown",
   "id": "684e197e",
   "metadata": {},
   "source": [
    "# 06_report_export_notify\n"
   ]
  },
  {
   "cell_type": "code",
   "execution_count": null,
   "id": "3a79ef43",
   "metadata": {},
   "outputs": [],
   "source": [
    "# 06_report_export_notify\n",
    "from pathlib import Path\n",
    "from datetime import datetime\n",
    "out_base = '/dbfs/tmp/medallion_reports'\n",
    "Path(out_base).mkdir(parents=True, exist_ok=True)\n",
    "\n",
    "try:\n",
    "    q = spark.table('finance.kyc_gold.report_export_queue').filter(\"status='QUEUED'\")\n",
    "except Exception as e:\n",
    "    print('No queue', e); q = []\n",
    "\n",
    "for r in q.collect():\n",
    "    out = f\"{out_base}/{r.report_name}_{datetime.utcnow().strftime('%Y%m%d_%H%M%S')}\"\n",
    "    try:\n",
    "        df = spark.table(r.view_full_name)\n",
    "        df.coalesce(1).write.mode('overwrite').option('header',True).csv(out)\n",
    "        spark.sql(f\"UPDATE finance.kyc_gold.report_export_queue SET status='DONE', finished_at = current_timestamp(), export_path='{out}' WHERE id = '{r.id}'\")\n",
    "        print('Exported', r.report_name, '->', out)\n",
    "    except Exception as e:\n",
    "        spark.sql(f\"UPDATE finance.kyc_gold.report_export_queue SET status='FAILED' WHERE id = '{r.id}'\")\n",
    "        print('Export failed', r.id, e)\n",
    "print('Done')"
   ]
  }
 ],
 "metadata": {},
 "nbformat": 4,
 "nbformat_minor": 5
}
